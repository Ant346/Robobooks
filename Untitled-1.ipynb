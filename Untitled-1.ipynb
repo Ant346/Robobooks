{
 "cells": [
  {
   "cell_type": "code",
   "execution_count": null,
   "metadata": {},
   "outputs": [],
   "source": []
  }
 ],
 "metadata": {
  "kernelspec": {
   "display_name": "Python 3",
   "language": "python",
   "name": "python3"
  },
  "language_info": {
   "name": "python",
   "version": "3.10.8 (tags/v3.10.8:aaaf517, Oct 11 2022, 16:50:30) [MSC v.1933 64 bit (AMD64)]"
  },
  "orig_nbformat": 4,
  "vscode": {
   "interpreter": {
    "hash": "05d0ac6c0e661dcf7870716260c4c1d46f6d6ed7db6e1bd675f8387b27b9c356"
   }
  }
 },
 "nbformat": 4,
 "nbformat_minor": 2
}
