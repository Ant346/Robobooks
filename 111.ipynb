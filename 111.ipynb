{
 "cells": [
  {
   "attachments": {},
   "cell_type": "markdown",
   "metadata": {},
   "source": [
    "[ROS Wiki](http://wiki.ros.org/)\n",
    "1-[name](link)-->\\href{link}{name}\n",
    "  #### ////// solution \n",
    " (\\[.*?\\])(\\(.*?\\))\n",
    "  #### \\\\\\\\\\\\ solution\n",
    "DONE\n",
    "2- \\( ---> (\n",
    "#### ////// solution \n",
    "  \\\\\\(\n",
    "#### \\\\\\\\\\\\ solution\n",
    "\n",
    "3- \\) ---> )\n",
    "#### ////// solution \n",
    "  \\\\\\)\n",
    "#### \\\\\\\\\\\\ solution\n",
    "\n",
    "4- # ---> style Chapter\n",
    "#### ////// solution \n",
    "#.*?\n",
    "#### \\\\\\\\\\\\ solution\n",
    "\n",
    "5- *something* --> /textbf{something}\n",
    "#### ////// solution \n",
    "\\*.*?\\*\n",
    "#### \\\\\\\\\\\\ solution\n",
    "\n",
    "6- ***something** --> /textbf{something} #жирнее\n",
    "#### ////// solution \n",
    "\\*\\*.*?\\*\\*\n",
    "#### \\\\\\\\\\\\ solution\n",
    "\n",
    "7-```text ``` --> code style \n",
    "#### ////// solution \n",
    "```.* ```\n",
    "#### \\\\\\\\\\\\ solution\n",
    "\n",
    "\n",
    "\n",
    "\n",
    "2- \\(*?\\)-->(something)\n",
    "\n",
    "3- *-->\\begin{itemize}\n",
    "\\item\n",
    "\\item\n",
    "\\item\n",
    "\n",
    "2-image\n",
    "3-code\n",
    "4-chapter\n",
    "\n"
   ]
  },
  {
   "cell_type": "code",
   "execution_count": 104,
   "metadata": {},
   "outputs": [],
   "source": [
    "import regex as re\n",
    "import numpy as np"
   ]
  },
  {
   "cell_type": "code",
   "execution_count": 105,
   "metadata": {},
   "outputs": [],
   "source": [
    "def to_raw(string):\n",
    "    return fr\"{string}\""
   ]
  },
  {
   "cell_type": "code",
   "execution_count": 173,
   "metadata": {},
   "outputs": [],
   "source": [
    "path=r'C:\\Users\\serge\\Documents\\code\\Robobooks\\data\\ROS by Example Volume 1\\1,4'\n",
    "test_path = r'C:\\Users\\serge\\Documents\\code\\Robobooks'\n",
    "filename=np.array([ ])\n",
    "pattern=np.array([ #регулярка для поиска\n",
    "                    r'!\\[.*?\\]\\((.*?)\\)',#Для картинок\n",
    "                    r'\\[(.*?)\\]\\((.*?)\\)', #Для ссылок Done\n",
    "                    r'\\\\\\(', #Для правой скобки Done\n",
    "                    r'\\\\\\)', #Для левой скобки Done\n",
    "                    r'# ([1-9]\\. .*)', #Для заголовка Done\n",
    "                    r'# ([1-9]\\.[1-9] .*)', #Для подзаголовка Done\n",
    "                    r'# ([1-9]\\.[1-9]\\.[1-9] .*)', #Для пункта Done\n",
    "                    r'\\*{1,2}(.*?)\\*{1,2}', #Для жирного текста\n",
    "                    r'```(.*) ```', #Для кода\n",
    "                    r'\\*(.*)',#Для ненумерованного списка\n",
    "                    r' _(.*?)_ '#Для italic\n",
    "                ])\n",
    "repl=np.array([    #регулярка замены\n",
    "                    r'\\\\includegraphics[width=9cm]{\\1}',#Для картинок\n",
    "                    r'\\\\href{\\2}{\\1}', #Для ссылок Done\n",
    "                    r'(', #Для правой скобки Done\n",
    "                    r')', #Для левой скобки Done\n",
    "                    r'\\\\Section{\\1}', #Для заголовка Done\n",
    "                    r'\\\\Subsection{\\1}', #Для заголовка Done\n",
    "                    r'\\\\Chapter{\\1}', #Для заголовка Done\n",
    "                    r'\\\\textbf{\\1}', #Для жирного текста\n",
    "                    r'\\n \\\\begin{lstlisting}[language=Python,caption={Заполни меня}] \\n \\1 \\n \\\\end{lstlisting}', #Для кода\n",
    "                    r'\\\\item {\\1} ',#Для ненумерованного списка\n",
    "                    r'\\\\textit{\\1}'#Для italic\n",
    "                    \n",
    "                ])"
   ]
  },
  {
   "cell_type": "code",
   "execution_count": 174,
   "metadata": {},
   "outputs": [
    {
     "data": {
      "text/plain": [
       "<regex.Match object; span=(0, 23), match='# 1. СМЫСЛ ДАННОЙ КНИГИ'>"
      ]
     },
     "execution_count": 174,
     "metadata": {},
     "output_type": "execute_result"
    }
   ],
   "source": [
    "re.search(pattern=pattern[4],string='# 1. СМЫСЛ ДАННОЙ КНИГИ')"
   ]
  },
  {
   "cell_type": "code",
   "execution_count": 175,
   "metadata": {},
   "outputs": [
    {
     "name": "stdout",
     "output_type": "stream",
     "text": [
      "1.-smysl-dannoi-knigi.md\n",
      "10.-zrenie-robota.md\n",
      "10.1-opencv-openni-and-pcl.md\n",
      "10.10-uzly-pcl-i-trekhmernye-oblaka-tochek.md\n",
      "10.2-primechanie-o-razreshenii-kamery.md\n",
      "10.3-ustanovka-i-testirovanie-draiverov-kamery-ros.md\n",
      "10.4-ustanovka-opencv-v-ubuntu-linux.md\n",
      "10.5-ros-v-opencv-paket-cv_bridge.md\n",
      "10.6-the-ros2opencv2.pyutility.md\n",
      "10.7-obrabotka-zapisannogo-video.md\n",
      "10.8-opencv-biblioteka-kompyuternogo-zreniya-s-otkrytym-iskhodnym-kodom.md\n",
      "10.9-openni-i-otslezhivanie-skeleta.md\n",
      "2.-realnye-i-smodelirovannye-roboty.md\n",
      "2.1-gazebo-etapy-i-simulyator-arbotix.md\n",
      "2.2-znakomstvo-s-robotami-turtlebot-maxwell-i-pi-robot.md\n",
      "3.-operacionnye-sistemy-i-versii-ros.md\n",
      "3.1-ustanovka-ubuntu-linux.md\n",
      "3.2-nachalo-raboty-s-linux.md\n",
      "3.3-primechanie-ob-obnovleniyakh-i-izmeneniyakh.md\n",
      "4.1-ustanovka-ros.md\n",
      "4.10-ispolzovanie-parametrov-ros-v-vashikh-programmakh.md\n",
      "4.11-ispolzovanie-rqt_reconfigure-dlya-ustanovki-parametrov-ros.md\n",
      "4.12-set-mezhdu-robotom-i-kompyuterom.md\n",
      "4.12.1-sinkhronizaciya-vremeni.md\n",
      "4.12.2-set-ros-s-ispolzovaniem-zeroconf.md\n",
      "4.12.3-testirovanie-podklyucheniya.md\n",
      "4.12.4-ustanovka-peremennykh-ros_master_uri-i-ros_hostname.md\n",
      "4.12.5-otkrytie-novykh-terminalov.md\n",
      "4.12.6-running-nodes-on-both-machines.md\n",
      "4.12.7-set-ros-cherez-internet.md\n",
      "4.13 ROS повторение.md\n",
      "4.14 что такое приложение ROS.md\n",
      "4.15 Установка пакетов с помощью SVN, Git и Mercurial.md\n",
      "4.15.1-svn.md\n",
      "4.15.2-git.md\n",
      "4.15.3-mercurial.md\n",
      "4.16 Удаление пакетов из Personal catkin Directory.md\n",
      "4.17 Как найти сторонние ROS-пакеты.md\n",
      "4.17.1-poisk-v-ros-wiki-ros-wiki.md\n",
      "4.17.2-ispolzovanie-komandy-roslocate.md\n",
      "4.17.3-prosmotr-indeksa-programmnogo-obespecheniya-ros.md\n",
      "4.17.4.-poisk-v-google.md\n",
      "4.18 Получение дальнейшей помощи с ROS.md\n",
      "4.2-ustanovka-rosinstall.md\n",
      "4.3-postroenie-paketov-ros-s-pomoshyu-catkin.md\n",
      "4.4-sozdanie-catkin-workspace.md\n",
      "4.5-vypolnenie-make-clean-s-pomoshyu-catkin.md\n",
      "4.6-vosstanovlenie-single-catkin-package.md\n",
      "4.7-smeshivanie-rabochikh-prostranstv-catkin-i-rosbuild.md\n",
      "4.8-rabota-s-official-ros-tutorials.md\n",
      "4.9-rviz-instrument-vizualizacii-ros.md\n",
      "5.1 Установка предварительных условий.md\n",
      "5.2 Клонирование репозитория Indigo Ros-by-example.md\n",
      "5.2.1-obnovlenie-ot-electric-ili-fuerte.md\n",
      "5.2.2-obnovlenie-s-groovy.md\n",
      "5.2.3-obnovlenie-s-hydro.md\n",
      "5.2.4.-klonirovanie-repozitoriya-rbx1-dlya-indigo-v-pervyi-raz.md\n",
      "5.3-o-spiskakh-kodov-v-etoi-knige.md\n",
      "6.-ustanovka-arbotix-simulator.md\n",
      "6.1-ustanovka-simulyatora.md\n",
      "6.2-testirovanie-simulyatora.md\n",
      "6.3-zapusk-simulyatora-s-vashim-sobstvennym-robotom.md\n",
      "7.-kontrol-mobilnoi-bazy.md\n",
      "7.1-edinicy-i-sistemy-koordinat.md\n",
      "7.10 Телеоперация вашего робота.md\n",
      "7.2-urovni-upravleniya-dvizheniem.md\n",
      "7.3-skruchivanie-i-povorot-s-pomoshyu-ros.md\n",
      "7.4 Калибровка одометрии вашего робота.md\n",
      "7.5 Отправка твист-сообщений реальному роботу.md\n",
      "7.6 Публикация твист-сообщений от узла ROS.md\n",
      "7.7 Мы Уже Там Подойдя на расстояние с одометра.md\n",
      "7.8 Туда и обратно, используя одометрию.md\n",
      "7.9 Навигация по квадрату с помощью одометрии.md\n",
      "9.-raspoznavanie-i-sintez-rechi.md\n",
      "9.1-ustanovka-pocketsphinx-dlya-raspoznavaniya-rechi.md\n",
      "9.2.-testirovanie-raspoznavatelya-pocketsphinx.md\n",
      "9.3-sozdanie-slovarnogo-zapasa.md\n",
      "9.4-skript-navigacii-s-golosovym-upravleniem.md\n",
      "9.4.1.-testirovanie-golosovogo-upravleniya-v-simulyatore-arbotix.md\n",
      "9.4.2.-ispolzovanie-golosovogo-upravleniya-s-nastoyashim-robotom.md\n",
      "9.5-ustanovka-i-testirovanie-festival-text-to-speech.md\n",
      "9.5.1.-ispolzovanie-preobrazovaniya-teksta-v-rech-v-uzle-ros.md\n",
      "9.5.2.-testirovanie-scenariya-talkback.py.md\n",
      "README.md\n",
      "SUMMARY.md\n"
     ]
    }
   ],
   "source": [
    "import os, fnmatch\n",
    "listOfFiles = os.listdir(path)  \n",
    "pattern_os = \"*.md\"  \n",
    "for entry in listOfFiles:  \n",
    "    if fnmatch.fnmatch(entry, pattern_os):\n",
    "        entry=to_raw(entry)\n",
    "        filename=np.append(filename,entry)\n",
    "        print(entry)"
   ]
  },
  {
   "cell_type": "code",
   "execution_count": 180,
   "metadata": {},
   "outputs": [],
   "source": [
    "for k in range(0,len(filename)):\n",
    "    test = []\n",
    "    start_flag = 0\n",
    "    with open(path+'\\\\'+filename[k], \"r\", encoding='UTF8') as f:\n",
    "        with open(path+'\\\\test\\\\'+filename[k][:-2]+'tex', \"w+\", encoding='UTF8') as f_w:\n",
    "            for line in f.readlines():\n",
    "                test.append(line)\n",
    "            for i in range(0, len(test)):\n",
    "                for j in range(0, len(pattern)):\n",
    "                    if (j == 9):\n",
    "                        if (re.search(pattern=pattern[9], string=test[i])) != None:\n",
    "                            start_flag += 1\n",
    "                        if (re.search(pattern=r'\\\\item {.*?}', string=test[i-1])) != None and (re.search(pattern=pattern[9], string=test[i])) == None:\n",
    "                            start_flag = -1\n",
    "                        # print(start_flag, '\\n')\n",
    "                        # print(test[i-1], '\\n')\n",
    "                        # print(test[i], '\\n\\n')\n",
    "                    test[i] = re.sub(pattern=pattern[j],\n",
    "                                     repl=repl[j], string=test[i])\n",
    "\n",
    "                if start_flag == 1:\n",
    "                    f_w.write(\"\\\\begin{itemize} \\n\")\n",
    "\n",
    "                if start_flag == -1:\n",
    "                    f_w.write(\"\\end{itemize} \\n\")\n",
    "                    start_flag = 0\n",
    "                if i == 1:\n",
    "                    f_w.write('\\n')\n",
    "                f_w.write(test[i])\n",
    "\n"
   ]
  },
  {
   "cell_type": "code",
   "execution_count": 68,
   "metadata": {},
   "outputs": [
    {
     "data": {
      "text/plain": [
       "['1. Тест на заголовок \\\\chapter{ 1. Тест}',\n",
       " '2. Тест на  скобки ( какой-то интересный текст)\\n',\n",
       " '3. Тест на полужирный текст \\\\textbf{жирный текст}\\n',\n",
       " '4. Тест на жирный текст \\\\textbf{жирный текст}\\n',\n",
       " '5. Тест на ссылку \\\\href{http://nukanuka.org}{Мегассылка}\\n',\n",
       " '6. Тест на ненумерованный список\\n',\n",
       " '\\\\item {}  Я 1\\n',\n",
       " '\\\\item {}  Я 2 \\n',\n",
       " '\\\\item {}  Я 3\\n',\n",
       " '\\\\item {}  Я 4\\n',\n",
       " \"7. Тест на код \\n \\\\begin{lstlisting}[language=Python,caption={Заполни меня}] \\n print ('Hello World') \\n \\\\end{lstlisting}\\n\",\n",
       " '8. Тест на italic \\\\textit{italic}\\n',\n",
       " '9. Тест для картинок \\\\includegraphics[width=9cm]{../.gitbook/assets/nord.png}']"
      ]
     },
     "execution_count": 68,
     "metadata": {},
     "output_type": "execute_result"
    }
   ],
   "source": [
    "test"
   ]
  },
  {
   "cell_type": "code",
   "execution_count": 44,
   "metadata": {},
   "outputs": [
    {
     "name": "stdout",
     "output_type": "stream",
     "text": [
      "\\item   Я 2 \n",
      "\n"
     ]
    }
   ],
   "source": [
    "a=re.sub(pattern=pattern[7],repl=repl[7],string=test[7])\n",
    "print(a)"
   ]
  },
  {
   "cell_type": "code",
   "execution_count": 66,
   "metadata": {},
   "outputs": [
    {
     "name": "stdout",
     "output_type": "stream",
     "text": [
      "ok\n"
     ]
    }
   ],
   "source": [
    "if re.search(pattern=\".*?\",string=\"aa\") != None:\n",
    "    print(\"ok\")"
   ]
  },
  {
   "cell_type": "code",
   "execution_count": 24,
   "metadata": {},
   "outputs": [
    {
     "data": {
      "text/plain": [
       "'9. Тест для картинок ![&#x426;&#x438;&#x43A;&#x43B; &#x41D;&#x41E;&#x420;&#x414;](../.gitbook/assets/nord.png)'"
      ]
     },
     "execution_count": 24,
     "metadata": {},
     "output_type": "execute_result"
    }
   ],
   "source": [
    "test[12]"
   ]
  },
  {
   "cell_type": "code",
   "execution_count": 15,
   "metadata": {},
   "outputs": [
    {
     "name": "stdout",
     "output_type": "stream",
     "text": [
      "1\n"
     ]
    }
   ],
   "source": [
    "a=re.sub(pattern=pattern[0],repl=r'(',string=test[0])\n",
    "print(a)"
   ]
  },
  {
   "cell_type": "code",
   "execution_count": 12,
   "metadata": {},
   "outputs": [
    {
     "name": "stdout",
     "output_type": "stream",
     "text": [
      "2. Тест на  скобки ) какой-то интересный текст\\)\n",
      "\n"
     ]
    }
   ],
   "source": [
    "a=re.sub(pattern=pattern[2],repl=r')',string=test[1])\n",
    "print(a)"
   ]
  },
  {
   "cell_type": "code",
   "execution_count": 16,
   "metadata": {},
   "outputs": [
    {
     "name": "stdout",
     "output_type": "stream",
     "text": [
      "3. Тест на полужирный текст \\textbf{жирный текст}\n",
      "\n"
     ]
    }
   ],
   "source": [
    "a=re.sub(pattern=pattern[4],repl=r'\\\\textbf{\\1}',string=test[2])\n",
    "print(a)"
   ]
  },
  {
   "cell_type": "code",
   "execution_count": 17,
   "metadata": {},
   "outputs": [
    {
     "name": "stdout",
     "output_type": "stream",
     "text": [
      "1. Тест на заголовок \\chapter{ 1. Тест}\n"
     ]
    }
   ],
   "source": [
    "a=re.sub(pattern=pattern[3],repl=r'\\\\chapter{\\1}',string=test[0])\n",
    "print(a)"
   ]
  },
  {
   "cell_type": "code",
   "execution_count": 18,
   "metadata": {},
   "outputs": [
    {
     "name": "stdout",
     "output_type": "stream",
     "text": [
      "5. Тест на ссылку \\href{http://nukanuka.org}{Мегассылка}\n",
      "\n"
     ]
    }
   ],
   "source": [
    "a=re.sub(pattern=pattern[0],repl=r'\\\\href{\\2}{\\1}',string=test[4])\n",
    "print(a)"
   ]
  },
  {
   "cell_type": "code",
   "execution_count": 19,
   "metadata": {},
   "outputs": [
    {
     "name": "stdout",
     "output_type": "stream",
     "text": [
      "\\item   Я 1\n",
      "\n"
     ]
    }
   ],
   "source": [
    "a=re.sub(pattern=pattern[6],repl=r'\\\\item \\1 ',string=test[6])\n",
    "print(a)"
   ]
  },
  {
   "cell_type": "code",
   "execution_count": 23,
   "metadata": {},
   "outputs": [
    {
     "name": "stdout",
     "output_type": "stream",
     "text": [
      "7.  Тест на код \n",
      " \\begin{lstlisting}[language=Python,caption={Заполни меня}] \n",
      " print ('Hello World') \n",
      " \\end{lstlisting}\n",
      "\n"
     ]
    }
   ],
   "source": [
    "a=re.sub(pattern=pattern[5],repl=r'\\n \\\\begin{lstlisting}[language=Python,caption={Заполни меня}] \\n \\1 \\n \\\\end{lstlisting}',string=test[10])\n",
    "print(a)"
   ]
  },
  {
   "cell_type": "code",
   "execution_count": 46,
   "metadata": {},
   "outputs": [
    {
     "data": {
      "text/plain": [
       "'!\\\\[.*?\\\\]\\\\((.*?)\\\\)'"
      ]
     },
     "execution_count": 46,
     "metadata": {},
     "output_type": "execute_result"
    }
   ],
   "source": [
    "pattern[0]"
   ]
  },
  {
   "cell_type": "code",
   "execution_count": 47,
   "metadata": {},
   "outputs": [
    {
     "data": {
      "text/plain": [
       "'\\\\includegraphics[width=9cm]{\\\\1}'"
      ]
     },
     "execution_count": 47,
     "metadata": {},
     "output_type": "execute_result"
    }
   ],
   "source": [
    "repl[0]"
   ]
  },
  {
   "cell_type": "code",
   "execution_count": 14,
   "metadata": {},
   "outputs": [
    {
     "name": "stdout",
     "output_type": "stream",
     "text": [
      "1. Тест на заголовок \\\\chapter{ 1. Тест}\n"
     ]
    }
   ],
   "source": [
    "test=r'1. Тест на заголовок \\\\chapter{ 1. Тест}'\n",
    "a=re.sub(pattern=pattern[1],repl=repl[1],string=test)\n",
    "print(a)"
   ]
  },
  {
   "cell_type": "code",
   "execution_count": 21,
   "metadata": {},
   "outputs": [
    {
     "name": "stdout",
     "output_type": "stream",
     "text": [
      "#(.*?)\\n\n"
     ]
    }
   ],
   "source": [
    "print(pattern[3])"
   ]
  },
  {
   "cell_type": "code",
   "execution_count": 22,
   "metadata": {},
   "outputs": [
    {
     "data": {
      "text/plain": [
       "\"7.  Тест на код ```print ('Hello World') ```\\n\""
      ]
     },
     "execution_count": 22,
     "metadata": {},
     "output_type": "execute_result"
    }
   ],
   "source": [
    "test[10]"
   ]
  }
 ],
 "metadata": {
  "kernelspec": {
   "display_name": "Python 3",
   "language": "python",
   "name": "python3"
  },
  "language_info": {
   "codemirror_mode": {
    "name": "ipython",
    "version": 3
   },
   "file_extension": ".py",
   "mimetype": "text/x-python",
   "name": "python",
   "nbconvert_exporter": "python",
   "pygments_lexer": "ipython3",
   "version": "3.10.9"
  },
  "orig_nbformat": 4,
  "vscode": {
   "interpreter": {
    "hash": "05d0ac6c0e661dcf7870716260c4c1d46f6d6ed7db6e1bd675f8387b27b9c356"
   }
  }
 },
 "nbformat": 4,
 "nbformat_minor": 2
}
