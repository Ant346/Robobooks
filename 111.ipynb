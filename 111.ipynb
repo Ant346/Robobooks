{
 "cells": [
  {
   "attachments": {},
   "cell_type": "markdown",
   "metadata": {},
   "source": [
    "[ROS Wiki](http://wiki.ros.org/)\n",
    "1-[name](link)-->\\href{link}{name}\n",
    "  #### ////// solution \n",
    " (\\[.*?\\])(\\(.*?\\))\n",
    "  #### \\\\\\\\\\\\ solution\n",
    "DONE\n",
    "2- \\( ---> (\n",
    "#### ////// solution \n",
    "  \\\\\\(\n",
    "#### \\\\\\\\\\\\ solution\n",
    "\n",
    "3- \\) ---> )\n",
    "#### ////// solution \n",
    "  \\\\\\)\n",
    "#### \\\\\\\\\\\\ solution\n",
    "\n",
    "4- # ---> style Chapter\n",
    "#### ////// solution \n",
    "#.*?\n",
    "#### \\\\\\\\\\\\ solution\n",
    "\n",
    "5- *something* --> /textbf{something}\n",
    "#### ////// solution \n",
    "\\*.*?\\*\n",
    "#### \\\\\\\\\\\\ solution\n",
    "\n",
    "6- ***something** --> /textbf{something} #жирнее\n",
    "#### ////// solution \n",
    "\\*\\*.*?\\*\\*\n",
    "#### \\\\\\\\\\\\ solution\n",
    "\n",
    "7-```text ``` --> code style \n",
    "#### ////// solution \n",
    "```.* ```\n",
    "#### \\\\\\\\\\\\ solution\n",
    "\n",
    "\n",
    "\n",
    "\n",
    "2- \\(*?\\)-->(something)\n",
    "\n",
    "3- *-->\\begin{itemize}\n",
    "\\item\n",
    "\\item\n",
    "\\item\n",
    "\n",
    "2-image\n",
    "3-code\n",
    "4-chapter\n",
    "\n"
   ]
  },
  {
   "cell_type": "code",
   "execution_count": 10,
   "metadata": {},
   "outputs": [],
   "source": [
    "import regex as re\n",
    "import numpy as np"
   ]
  },
  {
   "cell_type": "code",
   "execution_count": 16,
   "metadata": {},
   "outputs": [],
   "source": [
    "def to_raw(string):\n",
    "    return fr\"{string}\""
   ]
  },
  {
   "cell_type": "code",
   "execution_count": 11,
   "metadata": {},
   "outputs": [],
   "source": [
    "path=r'D:\\robobooks\\data\\ROS by Example Volume 1\\1,4'\n",
    "filename=np.array([ ])\n",
    "pattern=np.array([ #регулярка для поиска\n",
    "                    r'\\[(.*?)\\]\\((.*?)\\)', #Для ссылок Done\n",
    "                    r'\\\\\\(', #Для правой скобки Done\n",
    "                    r'\\\\\\)', #Для левой скобки Done\n",
    "                    r'#(.*?)\\n', #Для заголовка Done\n",
    "                    r'\\*(.*?)\\*', #Для жирного текста\n",
    "                    r'```(.*) ```', #Для кода\n",
    "                    r'\\*(.*?)'#Для ненумерованного списка\n",
    "                ])\n",
    "repl=np.array([    #регулярка замены\n",
    "                    r'\\\\href{\\2}{\\1}', #Для ссылок Done\n",
    "                    r'(', #Для правой скобки Done\n",
    "                    r')', #Для левой скобки Done\n",
    "                    r'\\\\chapter{\\1}', #Для заголовка Done\n",
    "                    r'\\\\textbf{\\1}', #Для жирного текста\n",
    "                    r'\\n \\\\begin{lstlisting}[language=Python,caption={Заполни меня}] \\n \\1 \\n \\\\end{lstlisting}', #Для кода\n",
    "                    r'\\\\item \\1 '#Для ненумерованного списка\n",
    "                ])"
   ]
  },
  {
   "cell_type": "code",
   "execution_count": 17,
   "metadata": {},
   "outputs": [
    {
     "name": "stdout",
     "output_type": "stream",
     "text": [
      "1.-smysl-dannoi-knigi.md\n",
      "10.-zrenie-robota.md\n",
      "10.1-opencv-openni-and-pcl.md\n",
      "10.10-uzly-pcl-i-trekhmernye-oblaka-tochek.md\n",
      "10.2-primechanie-o-razreshenii-kamery.md\n",
      "10.3-ustanovka-i-testirovanie-draiverov-kamery-ros.md\n",
      "10.4-ustanovka-opencv-v-ubuntu-linux.md\n",
      "10.5-ros-v-opencv-paket-cv_bridge.md\n",
      "10.6-the-ros2opencv2.pyutility.md\n",
      "10.7-obrabotka-zapisannogo-video.md\n",
      "10.8-opencv-biblioteka-kompyuternogo-zreniya-s-otkrytym-iskhodnym-kodom.md\n",
      "10.9-openni-i-otslezhivanie-skeleta.md\n",
      "2.-realnye-i-smodelirovannye-roboty.md\n",
      "2.1-gazebo-etapy-i-simulyator-arbotix.md\n",
      "2.2-znakomstvo-s-robotami-turtlebot-maxwell-i-pi-robot.md\n",
      "3.-operacionnye-sistemy-i-versii-ros.md\n",
      "3.1-ustanovka-ubuntu-linux.md\n",
      "3.2-nachalo-raboty-s-linux.md\n",
      "3.3-primechanie-ob-obnovleniyakh-i-izmeneniyakh.md\n",
      "4.1-ustanovka-ros.md\n",
      "4.10-ispolzovanie-parametrov-ros-v-vashikh-programmakh.md\n",
      "4.11-ispolzovanie-rqt_reconfigure-dlya-ustanovki-parametrov-ros.md\n",
      "4.12-set-mezhdu-robotom-i-kompyuterom.md\n",
      "4.12.1-sinkhronizaciya-vremeni.md\n",
      "4.12.2-set-ros-s-ispolzovaniem-zeroconf.md\n",
      "4.12.3-testirovanie-podklyucheniya.md\n",
      "4.12.4-ustanovka-peremennykh-ros_master_uri-i-ros_hostname.md\n",
      "4.12.5-otkrytie-novykh-terminalov.md\n",
      "4.12.6-running-nodes-on-both-machines.md\n",
      "4.12.7-set-ros-cherez-internet.md\n",
      "4.13 ROS повторение.md\n",
      "4.14 что такое приложение ROS.md\n",
      "4.15 Установка пакетов с помощью SVN, Git и Mercurial.md\n",
      "4.15.1-svn.md\n",
      "4.15.2-git.md\n",
      "4.15.3-mercurial.md\n",
      "4.16 Удаление пакетов из Personal catkin Directory.md\n",
      "4.17 Как найти сторонние ROS-пакеты.md\n",
      "4.17.1-poisk-v-ros-wiki-ros-wiki.md\n",
      "4.17.2-ispolzovanie-komandy-roslocate.md\n",
      "4.17.3-prosmotr-indeksa-programmnogo-obespecheniya-ros.md\n",
      "4.17.4.-poisk-v-google.md\n",
      "4.18 Получение дальнейшей помощи с ROS.md\n",
      "4.2-ustanovka-rosinstall.md\n",
      "4.3-postroenie-paketov-ros-s-pomoshyu-catkin.md\n",
      "4.4-sozdanie-catkin-workspace.md\n",
      "4.5-vypolnenie-make-clean-s-pomoshyu-catkin.md\n",
      "4.6-vosstanovlenie-single-catkin-package.md\n",
      "4.7-smeshivanie-rabochikh-prostranstv-catkin-i-rosbuild.md\n",
      "4.8-rabota-s-official-ros-tutorials.md\n",
      "4.9-rviz-instrument-vizualizacii-ros.md\n",
      "5.1 Установка предварительных условий.md\n",
      "5.2 Клонирование репозитория Indigo Ros-by-example.md\n",
      "5.2.1-obnovlenie-ot-electric-ili-fuerte.md\n",
      "5.2.2-obnovlenie-s-groovy.md\n",
      "5.2.3-obnovlenie-s-hydro.md\n",
      "5.2.4.-klonirovanie-repozitoriya-rbx1-dlya-indigo-v-pervyi-raz.md\n",
      "5.3-o-spiskakh-kodov-v-etoi-knige.md\n",
      "6.-ustanovka-arbotix-simulator.md\n",
      "6.1-ustanovka-simulyatora.md\n",
      "6.2-testirovanie-simulyatora.md\n",
      "6.3-zapusk-simulyatora-s-vashim-sobstvennym-robotom.md\n",
      "7.-kontrol-mobilnoi-bazy.md\n",
      "7.1-edinicy-i-sistemy-koordinat.md\n",
      "7.10 Телеоперация вашего робота.md\n",
      "7.2-urovni-upravleniya-dvizheniem.md\n",
      "7.3-skruchivanie-i-povorot-s-pomoshyu-ros.md\n",
      "7.4 Калибровка одометрии вашего робота.md\n",
      "7.5 Отправка твист-сообщений реальному роботу.md\n",
      "7.6 Публикация твист-сообщений от узла ROS.md\n",
      "7.7 Мы Уже Там Подойдя на расстояние с одометра.md\n",
      "7.8 Туда и обратно, используя одометрию.md\n",
      "7.9 Навигация по квадрату с помощью одометрии.md\n",
      "9.-raspoznavanie-i-sintez-rechi.md\n",
      "9.1-ustanovka-pocketsphinx-dlya-raspoznavaniya-rechi.md\n",
      "9.2.-testirovanie-raspoznavatelya-pocketsphinx.md\n",
      "9.3-sozdanie-slovarnogo-zapasa.md\n",
      "9.4-skript-navigacii-s-golosovym-upravleniem.md\n",
      "9.4.1.-testirovanie-golosovogo-upravleniya-v-simulyatore-arbotix.md\n",
      "9.4.2.-ispolzovanie-golosovogo-upravleniya-s-nastoyashim-robotom.md\n",
      "9.5-ustanovka-i-testirovanie-festival-text-to-speech.md\n",
      "9.5.1.-ispolzovanie-preobrazovaniya-teksta-v-rech-v-uzle-ros.md\n",
      "9.5.2.-testirovanie-scenariya-talkback.py.md\n",
      "README.md\n",
      "SUMMARY.md\n"
     ]
    }
   ],
   "source": [
    "import os, fnmatch\n",
    "listOfFiles = os.listdir(path)  \n",
    "pattern = \"*.md\"  \n",
    "for entry in listOfFiles:  \n",
    "    if fnmatch.fnmatch(entry, pattern):\n",
    "        entry=to_raw(entry)\n",
    "        filename=np.append(filename,entry)\n",
    "        print(entry)"
   ]
  },
  {
   "cell_type": "code",
   "execution_count": 18,
   "metadata": {},
   "outputs": [
    {
     "ename": "FileNotFoundError",
     "evalue": "[Errno 2] No such file or directory: 'D:\\\\robobooks\\\\data\\\\ROS by Example Volume 1\\\\1,41.-smysl-dannoi-knigi.md'",
     "output_type": "error",
     "traceback": [
      "\u001b[1;31m---------------------------------------------------------------------------\u001b[0m",
      "\u001b[1;31mFileNotFoundError\u001b[0m                         Traceback (most recent call last)",
      "Cell \u001b[1;32mIn[18], line 3\u001b[0m\n\u001b[0;32m      1\u001b[0m \u001b[39mfor\u001b[39;00m k \u001b[39min\u001b[39;00m \u001b[39mrange\u001b[39m (\u001b[39m0\u001b[39m,\u001b[39mlen\u001b[39m(filename)):\n\u001b[0;32m      2\u001b[0m     test\u001b[39m=\u001b[39m[]\n\u001b[1;32m----> 3\u001b[0m     \u001b[39mwith\u001b[39;00m \u001b[39mopen\u001b[39;49m(path\u001b[39m+\u001b[39;49mfilename[k], \u001b[39m\"\u001b[39;49m\u001b[39mr\u001b[39;49m\u001b[39m\"\u001b[39;49m,encoding\u001b[39m=\u001b[39;49m\u001b[39m'\u001b[39;49m\u001b[39mUTF8\u001b[39;49m\u001b[39m'\u001b[39;49m) \u001b[39mas\u001b[39;00m f:\n\u001b[0;32m      4\u001b[0m         \u001b[39mfor\u001b[39;00m line \u001b[39min\u001b[39;00m f\u001b[39m.\u001b[39mreadlines():\n\u001b[0;32m      5\u001b[0m             test\u001b[39m.\u001b[39mappend(line)\n",
      "File \u001b[1;32m~\\AppData\\Roaming\\Python\\Python310\\site-packages\\IPython\\core\\interactiveshell.py:282\u001b[0m, in \u001b[0;36m_modified_open\u001b[1;34m(file, *args, **kwargs)\u001b[0m\n\u001b[0;32m    275\u001b[0m \u001b[39mif\u001b[39;00m file \u001b[39min\u001b[39;00m {\u001b[39m0\u001b[39m, \u001b[39m1\u001b[39m, \u001b[39m2\u001b[39m}:\n\u001b[0;32m    276\u001b[0m     \u001b[39mraise\u001b[39;00m \u001b[39mValueError\u001b[39;00m(\n\u001b[0;32m    277\u001b[0m         \u001b[39mf\u001b[39m\u001b[39m\"\u001b[39m\u001b[39mIPython won\u001b[39m\u001b[39m'\u001b[39m\u001b[39mt let you open fd=\u001b[39m\u001b[39m{\u001b[39;00mfile\u001b[39m}\u001b[39;00m\u001b[39m by default \u001b[39m\u001b[39m\"\u001b[39m\n\u001b[0;32m    278\u001b[0m         \u001b[39m\"\u001b[39m\u001b[39mas it is likely to crash IPython. If you know what you are doing, \u001b[39m\u001b[39m\"\u001b[39m\n\u001b[0;32m    279\u001b[0m         \u001b[39m\"\u001b[39m\u001b[39myou can use builtins\u001b[39m\u001b[39m'\u001b[39m\u001b[39m open.\u001b[39m\u001b[39m\"\u001b[39m\n\u001b[0;32m    280\u001b[0m     )\n\u001b[1;32m--> 282\u001b[0m \u001b[39mreturn\u001b[39;00m io_open(file, \u001b[39m*\u001b[39margs, \u001b[39m*\u001b[39m\u001b[39m*\u001b[39mkwargs)\n",
      "\u001b[1;31mFileNotFoundError\u001b[0m: [Errno 2] No such file or directory: 'D:\\\\robobooks\\\\data\\\\ROS by Example Volume 1\\\\1,41.-smysl-dannoi-knigi.md'"
     ]
    }
   ],
   "source": [
    "for k in range (0,len(filename)):\n",
    "    test=[]\n",
    "    with open(path+filename[k], \"r\",encoding='UTF8') as f:\n",
    "        for line in f.readlines():\n",
    "            test.append(line)\n",
    "        for i in range(0,len(test)):\n",
    "            for j in range(0,len(pattern)):\n",
    "                test[i]=re.sub(pattern=pattern[j],repl=repl[j],string=test[i])   "
   ]
  },
  {
   "cell_type": "code",
   "execution_count": null,
   "metadata": {},
   "outputs": [],
   "source": [
    "for i in range(0,len(test)-1):\n",
    "    print(test[i])"
   ]
  },
  {
   "cell_type": "code",
   "execution_count": 12,
   "metadata": {},
   "outputs": [
    {
     "data": {
      "text/plain": [
       "'\\\\*(.*?)\\\\*'"
      ]
     },
     "execution_count": 12,
     "metadata": {},
     "output_type": "execute_result"
    }
   ],
   "source": [
    "pattern[4]"
   ]
  },
  {
   "cell_type": "code",
   "execution_count": 13,
   "metadata": {},
   "outputs": [
    {
     "data": {
      "text/plain": [
       "'3. Тест на полужирный текст *жирный текст*\\n'"
      ]
     },
     "execution_count": 13,
     "metadata": {},
     "output_type": "execute_result"
    }
   ],
   "source": [
    "test[2]"
   ]
  },
  {
   "cell_type": "code",
   "execution_count": 14,
   "metadata": {},
   "outputs": [
    {
     "name": "stdout",
     "output_type": "stream",
     "text": [
      "2. Тест на  скобки ( какой-то интересный текст\\)\n",
      "\n"
     ]
    }
   ],
   "source": [
    "a=re.sub(pattern=pattern[1],repl=r'(',string=test[1])\n",
    "print(a)"
   ]
  },
  {
   "cell_type": "code",
   "execution_count": 15,
   "metadata": {},
   "outputs": [
    {
     "name": "stdout",
     "output_type": "stream",
     "text": [
      "3. Тест на полужирный текст *жирный текст*\n",
      "\n"
     ]
    }
   ],
   "source": [
    "a=re.sub(pattern=pattern[2],repl=r')',string=test[2])\n",
    "print(a)"
   ]
  },
  {
   "cell_type": "code",
   "execution_count": 16,
   "metadata": {},
   "outputs": [
    {
     "name": "stdout",
     "output_type": "stream",
     "text": [
      "3. Тест на полужирный текст \\textbf{жирный текст}\n",
      "\n"
     ]
    }
   ],
   "source": [
    "a=re.sub(pattern=pattern[4],repl=r'\\\\textbf{\\1}',string=test[2])\n",
    "print(a)"
   ]
  },
  {
   "cell_type": "code",
   "execution_count": 17,
   "metadata": {},
   "outputs": [
    {
     "name": "stdout",
     "output_type": "stream",
     "text": [
      "1. Тест на заголовок \\chapter{ 1. Тест}\n"
     ]
    }
   ],
   "source": [
    "a=re.sub(pattern=pattern[3],repl=r'\\\\chapter{\\1}',string=test[0])\n",
    "print(a)"
   ]
  },
  {
   "cell_type": "code",
   "execution_count": 18,
   "metadata": {},
   "outputs": [
    {
     "name": "stdout",
     "output_type": "stream",
     "text": [
      "5. Тест на ссылку \\href{http://nukanuka.org}{Мегассылка}\n",
      "\n"
     ]
    }
   ],
   "source": [
    "a=re.sub(pattern=pattern[0],repl=r'\\\\href{\\2}{\\1}',string=test[4])\n",
    "print(a)"
   ]
  },
  {
   "cell_type": "code",
   "execution_count": 19,
   "metadata": {},
   "outputs": [
    {
     "name": "stdout",
     "output_type": "stream",
     "text": [
      "\\item   Я 1\n",
      "\n"
     ]
    }
   ],
   "source": [
    "a=re.sub(pattern=pattern[6],repl=r'\\\\item \\1 ',string=test[6])\n",
    "print(a)"
   ]
  },
  {
   "cell_type": "code",
   "execution_count": 23,
   "metadata": {},
   "outputs": [
    {
     "name": "stdout",
     "output_type": "stream",
     "text": [
      "7.  Тест на код \n",
      " \\begin{lstlisting}[language=Python,caption={Заполни меня}] \n",
      " print ('Hello World') \n",
      " \\end{lstlisting}\n",
      "\n"
     ]
    }
   ],
   "source": [
    "a=re.sub(pattern=pattern[5],repl=r'\\n \\\\begin{lstlisting}[language=Python,caption={Заполни меня}] \\n \\1 \\n \\\\end{lstlisting}',string=test[10])\n",
    "print(a)"
   ]
  },
  {
   "cell_type": "code",
   "execution_count": 21,
   "metadata": {},
   "outputs": [
    {
     "name": "stdout",
     "output_type": "stream",
     "text": [
      "#(.*?)\\n\n"
     ]
    }
   ],
   "source": [
    "print(pattern[3])"
   ]
  },
  {
   "cell_type": "code",
   "execution_count": 22,
   "metadata": {},
   "outputs": [
    {
     "data": {
      "text/plain": [
       "\"7.  Тест на код ```print ('Hello World') ```\\n\""
      ]
     },
     "execution_count": 22,
     "metadata": {},
     "output_type": "execute_result"
    }
   ],
   "source": [
    "test[10]"
   ]
  },
  {
   "cell_type": "code",
   "execution_count": null,
   "metadata": {},
   "outputs": [],
   "source": []
  }
 ],
 "metadata": {
  "kernelspec": {
   "display_name": "Python 3",
   "language": "python",
   "name": "python3"
  },
  "language_info": {
   "codemirror_mode": {
    "name": "ipython",
    "version": 3
   },
   "file_extension": ".py",
   "mimetype": "text/x-python",
   "name": "python",
   "nbconvert_exporter": "python",
   "pygments_lexer": "ipython3",
   "version": "3.10.8"
  },
  "orig_nbformat": 4,
  "vscode": {
   "interpreter": {
    "hash": "05d0ac6c0e661dcf7870716260c4c1d46f6d6ed7db6e1bd675f8387b27b9c356"
   }
  }
 },
 "nbformat": 4,
 "nbformat_minor": 2
}
